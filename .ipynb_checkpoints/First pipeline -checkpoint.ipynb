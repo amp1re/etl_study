{
 "cells": [
  {
   "cell_type": "code",
   "execution_count": 176,
   "metadata": {},
   "outputs": [],
   "source": [
    "# Импорт необходимых библиотек\n",
    "import pandas as pd\n",
    "import sqlite3\n",
    "from email.mime.text import MIMEText\n",
    "from email.mime.multipart import MIMEMultipart\n",
    "import smtplib\n",
    "\n",
    "from sqlalchemy import sql"
   ]
  },
  {
   "cell_type": "code",
   "execution_count": 82,
   "metadata": {},
   "outputs": [],
   "source": [
    "# Создайте базу данных sqlite, можно использовать sqlalchemy или pandas, или любой другой инструмент\n",
    "# Задайте почту на которую будет отправлен отчет (создайте свою по примеру ранее, или воспользуйтесь готовой)\n",
    "\n",
    "CONN = sqlite3.connect('currency.db')\n",
    "EMAIL = 'etltest22-03@yandex.ru'\n",
    "CRED = (\"etltest22-03\", \"etltest22-03pass1\")\n",
    "HOST = \"smtp.yandex.ru\"\n",
    "TO = EMAIL\n",
    "FROM = EMAIL"
   ]
  },
  {
   "cell_type": "code",
   "execution_count": 97,
   "metadata": {},
   "outputs": [],
   "source": [
    "# Напишите функцию которая принимает на вход дату\n",
    "# и выгружает курс валюты EUR к USD за этот день\n",
    "# Функция должна вернуть список словарей или можно использовать можно использоват pandas.read_csv()\n",
    "\n",
    "# Для этого воспользуйтесь https://exchangerate.host/#/\n",
    "# и методом Timeseries Endpoint! Строго им. Где start_date = end_date = date\n",
    "# Используйте параметры start_date, end_date, base=EUR, symbols=USD, format=csv\n",
    "\n",
    "def extract_currency(date,symbols):\n",
    "    URL = f'https://api.exchangerate.host/timeseries?start_date={date}&end_date={date}&symbols={symbols}&format=csv'\n",
    "    return pd.read_csv(URL).drop(columns=['start_date', 'end_date']).rename(columns={'code': 'currency'})"
   ]
  },
  {
   "cell_type": "code",
   "execution_count": 98,
   "metadata": {},
   "outputs": [],
   "source": [
    "# Напишите функцию которая скачивает данные с гитхаба\n",
    "# Функция принимает на вход дату\n",
    "# Функция должна вернуть список словарей или можно использовать можно использоват pandas.read_csv()\n",
    "\n",
    "# ссылка на гитхаб с файлами - https://github.com/dm-novikov/stepik_airflow_course/tree/main/data_new\n",
    "\n",
    "def extract_data(date):\n",
    "    URL = f\"https://raw.githubusercontent.com/dm-novikov/stepik_airflow_course/main/data_new/{date}.csv\"\n",
    "    return pd.read_csv(URL)"
   ]
  },
  {
   "cell_type": "code",
   "execution_count": 68,
   "metadata": {},
   "outputs": [],
   "source": [
    "# Напишите функцию которая принимает на вход список словарей\n",
    "# и загружает в табличку в sqlite, можно использоват pandas.to_sql()\n",
    "\n",
    "def insert_to_db(data, table_name, conn):\n",
    "    data.to_sql(name=table_name,if_exists='append', con=conn)"
   ]
  },
  {
   "cell_type": "code",
   "execution_count": 106,
   "metadata": {},
   "outputs": [],
   "source": [
    "# Напишите функцию которая выполнит SQL запрос к базу данных\n",
    "# Здесь удобно использовать sqlalchemy или https://pythonru.com/biblioteki/vvedenie-v-sqlite-python\n",
    "# Если выполняется select ... то функция должна возвращать результат (не None)\n",
    "# Если используется внутренняя операция например truncate table, insert into select ... то возвращает None\n",
    "# data = sql_query(sql=\"select * from table\") -> [(1, 2, 3), (4, 5, 6) ...]\n",
    "# sql_query(\"truncate table\") -> None\n",
    "\n",
    "def sql_query(sql, conn):\n",
    "    command = sql.split()[0]\n",
    "    cursor = conn.cursor()\n",
    "    cursor.execute(sql)\n",
    "    if command.lower() == \"select\":\n",
    "        return pd.read_sql_query(sql, conn)"
   ]
  },
  {
   "cell_type": "code",
   "execution_count": 165,
   "metadata": {},
   "outputs": [],
   "source": [
    "# Напишите функцию которая отправит полученный отчет на почту\n",
    "# Для этого можете воспользоваться кодом который был написан ранее (на уроке)\n",
    "# обернув его в вашу функцию\n",
    "def html_pretty(df):\n",
    "    \"\"\" Pretty html dataframe\n",
    "    \"\"\"\n",
    "    return \"\"\"\\\n",
    "    <html>\n",
    "      <head></head>\n",
    "      <body>\n",
    "        {0}\n",
    "      </body>\n",
    "    </html>\n",
    "    \"\"\".format(df.to_html())\n",
    "\n",
    "\n",
    "def _send_email(data, cred, host, port, to, From):\n",
    "    \"\"\" Send DF to email\n",
    "    \"\"\"\n",
    "\n",
    "    msg = MIMEMultipart()\n",
    "    part = MIMEText(html_pretty(data), 'html')\n",
    "    msg.attach(part)\n",
    "\n",
    "    server = smtplib.SMTP(host, port)\n",
    "    server.starttls()\n",
    "    server.login(cred[0], cred[1])\n",
    "    server.sendmail(From, to, msg.as_string())\n",
    "    server.quit()\n",
    "  \n",
    "\n",
    "def send_report(data, cred, host, to, From, port):\n",
    "    _send_email(data=data, cred=cred, host=host, to=to, From=From, port=port)"
   ]
  },
  {
   "cell_type": "code",
   "execution_count": 190,
   "metadata": {},
   "outputs": [],
   "source": [
    "# Запустите ваш код в функции main\n",
    "\n",
    "# Напишите генерацию дат, так чтобы у вас получился список\n",
    "# 2021-01-02, 2021-01-03 ... etc\n",
    "# Нужны даты с 2021-01-01 по 2021-01-04\n",
    "\n",
    "dates_list = list(['2021-01-0'+str(date) for date in range(1,5)])\n",
    "\n",
    "def main(date, email, conn):\n",
    "  \n",
    "  # Выгружаем данные по валютам и из источника\n",
    "    currency = extract_currency(date, 'USD')\n",
    "    data = extract_data(date)\n",
    "\n",
    "  # Вставляем данные в БД\n",
    "  # У вас долнжо получиться 2 таблицы CURRENCY, DATA\n",
    "    insert_to_db(currency, 'currency', conn)\n",
    "    insert_to_db(data, 'data', conn)\n",
    "\n",
    "  # Объединение данных в отдельную таблицу JOIN_DATA\n",
    "  # CURRENCY, DATA объединить через JOIN по дате и валюте\n",
    "  # Используйте insert into select ... inner join ...\n",
    "  # И соответственно создать таблицу для этого\n",
    "    join_data = sql_query('SELECT data.date as date, value as eur, rate as usd FROM data INNER JOIN currency ON data.date=currency.date',conn)\n",
    "    insert_to_db(data, 'join_data', conn)\n",
    "    \n",
    "  # Очистка временных таблиц CURRENCY, DATA\n",
    "  # Это те таблицы куда произошла вставка данных\n",
    "  # Используйте truncate\n",
    "    sql_query('DROP table currency', conn)\n",
    "    sql_query('DROP table data', conn)\n",
    "\n",
    "  # Получение данных из таблицы JOIN_DATA за конкретный день\n",
    "  # Используйте date при формировании запроса select * from ... where date ='...'\n",
    "    report = sql_query(f'SELECT * FROM join_data WHERE date=\"{date}\"', conn)\n",
    "\n",
    "  # Отправка данных на почту\n",
    "  # Передайте данные в любом виде и отправьте на почту\n",
    "    send_report(report, cred=CRED, host=HOST, port=587, to=email, From=email)\n",
    "\n",
    "\n",
    "# Пройдемся по списку дат и выполним скрипт\n",
    "for date in dates_list:\n",
    "    main(date, EMAIL, CONN)"
   ]
  }
 ],
 "metadata": {
  "kernelspec": {
   "display_name": "Python 3",
   "language": "python",
   "name": "python3"
  },
  "language_info": {
   "codemirror_mode": {
    "name": "ipython",
    "version": 3
   },
   "file_extension": ".py",
   "mimetype": "text/x-python",
   "name": "python",
   "nbconvert_exporter": "python",
   "pygments_lexer": "ipython3",
   "version": "3.8.5"
  }
 },
 "nbformat": 4,
 "nbformat_minor": 4
}
